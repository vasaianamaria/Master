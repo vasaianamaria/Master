{
 "nbformat": 4,
 "nbformat_minor": 0,
 "metadata": {
  "kernelspec": {
   "display_name": "Python 3",
   "language": "python",
   "name": "python3"
  },
  "language_info": {
   "codemirror_mode": {
    "name": "ipython",
    "version": 3
   },
   "file_extension": ".py",
   "mimetype": "text/x-python",
   "name": "python",
   "nbconvert_exporter": "python",
   "pygments_lexer": "ipython3",
   "version": "3.6.1"
  },
  "colab": {
   "name": "Lab2-naive-bayes-sol.ipynb",
   "provenance": []
  }
 },
 "cells": [
  {
   "cell_type": "markdown",
   "metadata": {
    "id": "Z8osjt26YoO0",
    "colab_type": "text"
   },
   "source": [
    "# Practical Machine Learning\n",
    "# Lab 2"
   ]
  },
  {
   "cell_type": "markdown",
   "metadata": {
    "id": "uh_g755iYoO1",
    "colab_type": "text"
   },
   "source": [
    "## Naive Bayes\n",
    "\n",
    "We are going to classify the MNIST data using the Naive Bayes classifier from the **scikit-learn** library."
   ]
  },
  {
   "cell_type": "markdown",
   "metadata": {
    "id": "1sR8XtnMYoO2",
    "colab_type": "text"
   },
   "source": [
    "## Bayes' theorem"
   ]
  },
  {
   "cell_type": "markdown",
   "metadata": {
    "collapsed": true,
    "id": "xWlJ2YWuYoO3",
    "colab_type": "text"
   },
   "source": [
    "![bayes_rule.png](attachment:bayes_rule.png) "
   ]
  },
  {
   "cell_type": "markdown",
   "metadata": {
    "id": "Me0xqAxuYoO4",
    "colab_type": "text"
   },
   "source": [
    "## Naive Bayes\n",
    "\n",
    "Naives Bayes method is a supervised learning algorithm based on applying Bayes' theorem with the '*naive*' assumption of conditional independence between every pair of features given the value of the class variable.\n",
    "\n",
    "Let *X* be a feature vector $X=\\{x_1, x_2,..., x_n\\}$ and $y_k$ be a class variable, the predicted label ($y_{hat}$) is:\n",
    "$$y_{hat} = argmax_{y_k} P(y_k) \\prod_{i=1}^{i=n}P(x_i | y_k) $$\n",
    "where $P(y_k)$ is the likelihood of class $y_k$ and $P(x_i | y_k)$ is the likelihood of feature $x_i$ in class $y_k$."
   ]
  },
  {
   "cell_type": "markdown",
   "metadata": {
    "id": "Q861VDf7YoO5",
    "colab_type": "text"
   },
   "source": [
    "### Gaussian Naive Bayes\n",
    "\n",
    "The likelihood of the features is assumed to be Gaussian:\n",
    "$$P(x_i | y_k) = \\frac{1}{\\sqrt{2\\pi \\sigma^2_{y_k}}} exp(- \\frac{x_i - \\mu_{y_k}}{2\\sigma^2_{y_k}}) $$\n",
    "\n",
    "where $\\sigma_{y_k} $ and $\\mu_{y_k}$ are estimated using maximum likelihood."
   ]
  },
  {
   "cell_type": "markdown",
   "metadata": {
    "id": "rRZgkPETYoO5",
    "colab_type": "text"
   },
   "source": [
    "### Multinomial Naive Bayes\n",
    "\n",
    "It is used for multinomially distributed data and $P(x_i | y_k)$ is the probability of feature $i$ appearing in a sample belonging to class $y_k$.\n",
    "\n",
    "\n",
    "$$P(x_i | y_k) = \\frac{number-of-examples-in-class-y_k-that-have-x_i}{number-of-examples-in-class-y_k}$$\n",
    "\n",
    "\n"
   ]
  },
  {
   "cell_type": "markdown",
   "metadata": {
    "id": "UcvuVJpXYoO6",
    "colab_type": "text"
   },
   "source": [
    "## How to use scikit-learn"
   ]
  },
  {
   "cell_type": "code",
   "metadata": {
    "id": "-Z6LZ2SsYoO6",
    "colab_type": "code",
    "colab": {}
   },
   "source": [
    "# import the library\n",
    "from sklearn.naive_bayes import GaussianNB, MultinomialNB\n",
    "from sklearn.neighbors import KNeighborsClassifier\n",
    "import numpy as np"
   ],
   "execution_count": 0,
   "outputs": []
  },
  {
   "cell_type": "markdown",
   "metadata": {
    "id": "qcpSmJrHYoO9",
    "colab_type": "text"
   },
   "source": [
    "##### define the model\n",
    "model = KNeighborsClassifier(n_neighbors=7, metric='minkowski') \n",
    "\n",
    "##### train the model\n",
    "model.fit(X, y)\n",
    "\n",
    "##### predict the labels\n",
    "predicted_labels = model.predict(X_test)\n",
    "\n",
    "##### compute the accuracy\n",
    "accuracy = model.score(X_test, y_test)"
   ]
  },
  {
   "cell_type": "markdown",
   "metadata": {
    "id": "iq-1r2LpYoO-",
    "colab_type": "text"
   },
   "source": [
    "# Execises"
   ]
  },
  {
   "cell_type": "markdown",
   "metadata": {
    "id": "gmktsdsfYoO-",
    "colab_type": "text"
   },
   "source": [
    "### 1. Compute the accuracy of multinomial naive bayes classifier on the MNIST subset."
   ]
  },
  {
   "cell_type": "code",
   "metadata": {
    "id": "byHTu3q4YoO_",
    "colab_type": "code",
    "colab": {},
    "outputId": "e4eb27f2-8e31-47d8-cc4f-81f65ebd9120"
   },
   "source": [
    "# load data\n",
    "train_images = np.load('data/train_images.npy') # load training images\n",
    "train_labels = np.load('data/train_labels.npy') # load training labels\n",
    "test_images = np.load('data/test_images.npy') # load testing images\n",
    "test_labels = np.load('data/test_labels.npy') # load testing labels\n",
    "\n",
    "# write your code here\n",
    "clf = MultinomialNB()\n",
    "clf.fit(train_images, train_labels)\n",
    "print('accuracy =', clf.score(test_images, test_labels))\n"
   ],
   "execution_count": 0,
   "outputs": [
    {
     "output_type": "stream",
     "text": [
      "accuracy = 0.846\n"
     ],
     "name": "stdout"
    }
   ]
  },
  {
   "cell_type": "code",
   "metadata": {
    "id": "zJs3CSgTYoPC",
    "colab_type": "code",
    "colab": {}
   },
   "source": [],
   "execution_count": 0,
   "outputs": []
  },
  {
   "cell_type": "code",
   "metadata": {
    "id": "K2m5P3PUYoPE",
    "colab_type": "code",
    "colab": {}
   },
   "source": [],
   "execution_count": 0,
   "outputs": []
  },
  {
   "cell_type": "code",
   "metadata": {
    "id": "9oteXl6eYoPF",
    "colab_type": "code",
    "colab": {}
   },
   "source": [
    "def value_to_bin(x, num_bins=3, min_value=0, max_value=255):  \n",
    "    bins = np.linspace(min_value, max_value + 1, num=num_bins + 1)   \n",
    "    x = np.digitize(x, bins)    \n",
    "    return x - 1"
   ],
   "execution_count": 0,
   "outputs": []
  },
  {
   "cell_type": "code",
   "metadata": {
    "id": "vBkrQW1ZYoPI",
    "colab_type": "code",
    "colab": {},
    "outputId": "c05806de-cfce-4c68-d98e-4330af7c13e5"
   },
   "source": [
    "x = np.array([0, 1, 2, 120,  240,  255, 256])\n",
    "print(value_to_bin(x))"
   ],
   "execution_count": 0,
   "outputs": [
    {
     "output_type": "stream",
     "text": [
      "[0 0 0 1 2 2 3]\n"
     ],
     "name": "stdout"
    }
   ]
  },
  {
   "cell_type": "code",
   "metadata": {
    "id": "K82Yi548YoPK",
    "colab_type": "code",
    "colab": {},
    "outputId": "ccecd96d-d918-4d23-8282-653535dab04a"
   },
   "source": [
    "\n",
    "\n",
    "train_images_cat = value_to_bin(train_images, 9) \n",
    "print(train_images.min(), train_images.max())\n",
    "test_images_cat = value_to_bin(test_images, 9)\n",
    "\n",
    "clf = MultinomialNB()\n",
    "clf.fit(train_images_cat, train_labels)\n",
    "print(clf.score(test_images_cat, test_labels))"
   ],
   "execution_count": 0,
   "outputs": [
    {
     "output_type": "stream",
     "text": [
      "0.0 255.0\n",
      "0.842\n"
     ],
     "name": "stdout"
    }
   ]
  },
  {
   "cell_type": "code",
   "metadata": {
    "id": "K25uR-Q0YoPM",
    "colab_type": "code",
    "colab": {}
   },
   "source": [],
   "execution_count": 0,
   "outputs": []
  }
 ]
}
