{
 "nbformat": 4,
 "nbformat_minor": 0,
 "metadata": {
  "kernelspec": {
   "display_name": "Python 3",
   "language": "python",
   "name": "python3"
  },
  "language_info": {
   "codemirror_mode": {
    "name": "ipython",
    "version": 3
   },
   "file_extension": ".py",
   "mimetype": "text/x-python",
   "name": "python",
   "nbconvert_exporter": "python",
   "pygments_lexer": "ipython3",
   "version": "3.5.0"
  },
  "colab": {
   "name": "Lab2-knn-sol.ipynb",
   "provenance": []
  }
 },
 "cells": [
  {
   "cell_type": "markdown",
   "metadata": {
    "id": "LKMq-OLkYnb6",
    "colab_type": "text"
   },
   "source": [
    "# Practical Machine Learning\n",
    "# Lab 2\n"
   ]
  },
  {
   "cell_type": "markdown",
   "metadata": {
    "id": "tQMpacUhYnb7",
    "colab_type": "text"
   },
   "source": [
    "## k-Nearest Neighbor\n",
    "\n",
    "In this lab, we are going to classify handwritten digits from the MNIST database using k-NN and Naive Bayes. This dataset consists of 60000 training images and 10000 testing images. Each image is labeled with one of 10 classes (0-9 digit). The images are gray-scale and have 28 pixels high and wide. We are going to use a subset divided as follows:\n",
    "    \n",
    "    ‘train_images.npy’ is a matrix of 1000 x 784, containing 1000 training images, each row is an image (28 x 28 = 784).\n",
    "    ‘test_images.npy’ is a matrix of 500 x 784 containing 500 testing images.\n",
    "    ‘train_labels.npy’ and ‘test_labels.npy’ contains the ground-truth labels.\n",
    "\n",
    "![mnist_examples.png](attachment:mnist_examples.png)"
   ]
  },
  {
   "cell_type": "markdown",
   "metadata": {
    "collapsed": true,
    "id": "s9TIU5PKYnb8",
    "colab_type": "text"
   },
   "source": [
    "Download the images and the ground-truth labels from [here](url). \n"
   ]
  },
  {
   "cell_type": "code",
   "metadata": {
    "id": "2tY6lP21Ynb9",
    "colab_type": "code",
    "colab": {}
   },
   "source": [
    "# import matplotlib and numpy libraries\n",
    "# you should run it only once\n",
    "import matplotlib.pyplot as plt\n",
    "import numpy as np "
   ],
   "execution_count": 0,
   "outputs": []
  },
  {
   "cell_type": "code",
   "metadata": {
    "id": "ymHVCg32Ynb_",
    "colab_type": "code",
    "colab": {}
   },
   "source": [
    "train_images = np.load('data/train_images.npy') # load training images\n",
    "train_labels = np.load('data/train_labels.npy') # load training labels\n",
    "image = train_images[0, :] # the first image\n",
    "image = np.reshape(image, (28, 28)) \n",
    "plt.imshow(np.uint8(image))\n",
    "plt.show()"
   ],
   "execution_count": 0,
   "outputs": []
  },
  {
   "cell_type": "markdown",
   "metadata": {
    "id": "vkyiveMTYncB",
    "colab_type": "text"
   },
   "source": [
    "## k-Nearest Neighbor\n",
    "\n",
    "The **nearest neighbor** method takes a **test** example, compare it to every single **training** example, and predict the label of the **closest** training example.\n",
    "\n",
    "In order to find the closest example(s), we have to define (or choose) a **metric**.\n",
    "\n",
    "Instead of using the closest example in the training set, we can find the top **k** closest examples and predict their majority label (*classification*) or the mean of their labels (*regression*). This strategy is called **k-NN**.\n",
    "\n"
   ]
  },
  {
   "cell_type": "markdown",
   "metadata": {
    "id": "Z715c0QBYncB",
    "colab_type": "text"
   },
   "source": [
    "![knn.jpeg](attachment:knn.jpeg)\n",
    "\n",
    "An example of the difference between Nearest Neighbor and a 5-Nearest Neighbor classifier, using 2-dimensional points and 3 classes (red, blue, green). The colored regions show the decision boundaries induced by the classifier with an L2 distance. The white regions show points that are ambiguously classified (i.e. class votes are tied for at least two classes). Notice that in the case of a NN classifier, outlier datapoints (e.g. green point in the middle of a cloud of blue points) create small islands of likely incorrect predictions, while the 5-NN classifier smooths over these irregularities, likely leading to better generalization on the test data (not shown). Also note that the gray regions in the 5-NN image are caused by ties in the votes among the nearest neighbors (e.g. 2 neighbors are red, next two neighbors are blue, last neighbor is green)."
   ]
  },
  {
   "cell_type": "markdown",
   "metadata": {
    "id": "IwhJStiqYncC",
    "colab_type": "text"
   },
   "source": [
    "The most common distances are:\n",
    "    $$L_1(X, Y) = \\sum_i{\\mid X_i - Y_i \\mid}$$\n",
    "    $$L_2(X, Y) = \\sqrt{\\sum_i{(X_i - Y_i) ^ 2}}$$"
   ]
  },
  {
   "cell_type": "markdown",
   "metadata": {
    "id": "HyVDBKLEYncD",
    "colab_type": "text"
   },
   "source": [
    "# Execises"
   ]
  },
  {
   "cell_type": "markdown",
   "metadata": {
    "id": "qvaMS4aAYncD",
    "colab_type": "text"
   },
   "source": [
    "#### 1. Create the  'Knn_classifier' class in order to classify the MNIST testset."
   ]
  },
  {
   "cell_type": "code",
   "metadata": {
    "id": "1cblj8kkYncE",
    "colab_type": "code",
    "colab": {}
   },
   "source": [
    "class Knn_classifier:\n",
    "    \n",
    "    def __init__(self, train_images, train_labels):\n",
    "        self.train_images = train_images\n",
    "        self.train_labels = train_labels\n",
    "    \n",
    "    # a. Write the classify_image(self, test_image, num_neighbors=3, metric='l2') function in order to classify 'test_image'\n",
    "    # example using the k-NN method with 'num_neighbors' neighbors and 'metric' distance.\n",
    "    def classify_image(self, test_image, num_neighbors=3, metric='l2'):\n",
    "        # write your code here\n",
    "        if(metric == 'l2'):   \n",
    "            distances = np.sqrt(np.sum((self.train_images - test_image) ** 2, axis = 1))\n",
    "        elif(metric == 'l1'):\n",
    "            distances = np.sum(abs(self.train_images - test_image), axis = 1)\n",
    "        else:\n",
    "            print('Error! Metric {} is not defined!'.format(metric))\n",
    "        \n",
    "        sort_index = np.argsort(distances)\n",
    "        sort_index = sort_index[:num_neighbors]\n",
    "        nearest_labels = self.train_labels[sort_index] \n",
    "        histc = np.bincount(nearest_labels)\n",
    "        \n",
    "        return np.argmax(histc)\n",
    "    \n",
    "    # b. Write the classify_images(self, test_images, num_neighbors=3, metric='l2') function in order to predict the labels of \n",
    "    # the test images.\n",
    "    def classify_images(self, test_images, num_neighbors=3, metric='l2'):\n",
    "        # write your code here\n",
    "        num_test_images = test_images.shape[0] \n",
    "        predicted_labels = np.zeros((num_test_images), np.int)\n",
    "        \n",
    "        for i in range(num_test_images): \n",
    "            if(i % 50 == 0):\n",
    "                print('processing {}%...'.format(i / num_test_images * 100))\n",
    "            predicted_labels[i] = self.classify_image(test_images[i, :], num_neighbors = num_neighbors, metric = metric)\n",
    "        \n",
    "        return predicted_labels\n",
    "    \n",
    "    # c. Define a function to compute the accurracy score given the predicted labels and the ground-truth labels.\n",
    "    def accuracy_score(self, y_true, y_pred):\n",
    "        # write your code here\n",
    "        return (y_true == y_pred).mean()\n",
    "    \n",
    "    "
   ],
   "execution_count": 0,
   "outputs": []
  },
  {
   "cell_type": "markdown",
   "metadata": {
    "id": "KUCvo7ZCYncG",
    "colab_type": "text"
   },
   "source": [
    "#### 2. Compute the accuracy score of the 3-NN method on the test set using L_2 distance."
   ]
  },
  {
   "cell_type": "code",
   "metadata": {
    "id": "bLDaryeUYncH",
    "colab_type": "code",
    "colab": {},
    "outputId": "d40878ae-11f9-4c7c-d26f-f0b6993b71b4"
   },
   "source": [
    "train_images = np.load('data/train_images.npy') # load training images\n",
    "train_labels = np.load('data/train_labels.npy') # load training labels\n",
    "test_images = np.load('data/test_images.npy') # load testing images\n",
    "test_labels = np.load('data/test_labels.npy') # load testing labels\n",
    "\n",
    "# write your code here\n",
    "classifier = Knn_classifier(train_images, train_labels)\n",
    "\n",
    "accuracy = classifier.accuracy_score(test_labels, predicted_labels)\n",
    "print('the classifier accuracy using l2 distance and 3 neighbors is ', accuracy)"
   ],
   "execution_count": 0,
   "outputs": [
    {
     "output_type": "stream",
     "text": [
      "the classifier accuracy using l2 distance and 3 neighbors is  0.898\n"
     ],
     "name": "stdout"
    }
   ]
  },
  {
   "cell_type": "markdown",
   "metadata": {
    "id": "dyvbiu6gYncK",
    "colab_type": "text"
   },
   "source": [
    "#### 3. Compute the confusion matrix of the previous classifier.\n",
    "\n",
    "Confusion matrix: $$C = c_{i, j}$$ number of examples in class **i** that were classified as **j**.\n"
   ]
  },
  {
   "cell_type": "code",
   "metadata": {
    "id": "77hYEn-EYncK",
    "colab_type": "code",
    "colab": {},
    "outputId": "555cb02b-de06-48e8-c93d-5c1b376dea19"
   },
   "source": [
    "# write your code here\n",
    "def confusion_matrix_v2(y_true, y_pred): \n",
    "    num_classes = max(y_true.max(), y_pred.max()) + 1\n",
    "    conf_matrix = np.zeros((num_classes, num_classes)) \n",
    "    \n",
    "    for i in range(len(y_true)): \n",
    "        conf_matrix[int(y_true[i]), int(y_pred[i])] +=1\n",
    "    return conf_matrix\n",
    "\n",
    "conf_matrix = confusion_matrix_v2(test_labels, predicted_labels)\n",
    "print(conf_matrix) "
   ],
   "execution_count": 0,
   "outputs": [
    {
     "output_type": "stream",
     "text": [
      "[[ 51.   0.   0.   0.   0.   1.   1.   0.   0.   0.]\n",
      " [  0.  52.   0.   0.   0.   0.   0.   0.   0.   0.]\n",
      " [  1.   6.  47.   1.   0.   0.   1.   2.   0.   0.]\n",
      " [  0.   0.   0.  51.   0.   1.   0.   0.   0.   1.]\n",
      " [  0.   0.   0.   0.  44.   0.   0.   0.   0.   2.]\n",
      " [  2.   1.   1.   6.   0.  40.   1.   0.   0.   1.]\n",
      " [  0.   0.   0.   0.   0.   1.  47.   0.   0.   0.]\n",
      " [  1.   2.   0.   0.   1.   0.   0.  46.   0.   0.]\n",
      " [  1.   0.   2.   2.   1.   1.   1.   1.  36.   1.]\n",
      " [  0.   0.   1.   1.   3.   1.   0.   1.   0.  35.]]\n"
     ],
     "name": "stdout"
    }
   ]
  },
  {
   "cell_type": "markdown",
   "metadata": {
    "id": "DPWbxp_NYncM",
    "colab_type": "text"
   },
   "source": [
    "#### 4. Plot the accuracy score of the k-NN method with  $k \\in \\{1, 3, 5, 7, 9\\}$ and distance $L_2.$\n"
   ]
  },
  {
   "cell_type": "code",
   "metadata": {
    "id": "G9aq5WjTYncN",
    "colab_type": "code",
    "colab": {},
    "outputId": "62163c97-1aa5-4a53-821b-1b73b7b443d5"
   },
   "source": [
    "# write your code here\n",
    "max_num_neighbors = 10\n",
    "num_neighbors = [i for i in range(1, max_num_neighbors, 2)]\n",
    "accuracy = np.zeros((len(num_neighbors)))\n",
    "\n",
    "for n in range(len(num_neighbors)): \n",
    "    predicted_labels = classifier.classify_images(test_images, num_neighbors = num_neighbors[n], metric = 'l2')\n",
    "    accuracy[n] = classifier.accuracy_score(test_labels, predicted_labels)\n",
    "      \n",
    "# Ploteaza punctele\n",
    "plt.plot(num_neighbors, accuracy)\n",
    "\n",
    "# Adauga etichete pentru fiecare axa\n",
    "plt.xlabel('number of neighbors')\n",
    "plt.ylabel('accuracy') \n",
    "plt.show()"
   ],
   "execution_count": 0,
   "outputs": [
    {
     "output_type": "stream",
     "text": [
      "processing 0.0%...\n",
      "processing 10.0%...\n",
      "processing 20.0%...\n",
      "processing 30.0%...\n",
      "processing 40.0%...\n",
      "processing 50.0%...\n",
      "processing 60.0%...\n",
      "processing 70.0%...\n",
      "processing 80.0%...\n",
      "processing 90.0%...\n",
      "processing 0.0%...\n",
      "processing 10.0%...\n",
      "processing 20.0%...\n",
      "processing 30.0%...\n",
      "processing 40.0%...\n",
      "processing 50.0%...\n",
      "processing 60.0%...\n",
      "processing 70.0%...\n",
      "processing 80.0%...\n",
      "processing 90.0%...\n",
      "processing 0.0%...\n",
      "processing 10.0%...\n",
      "processing 20.0%...\n",
      "processing 30.0%...\n",
      "processing 40.0%...\n",
      "processing 50.0%...\n",
      "processing 60.0%...\n",
      "processing 70.0%...\n",
      "processing 80.0%...\n",
      "processing 90.0%...\n",
      "processing 0.0%...\n",
      "processing 10.0%...\n",
      "processing 20.0%...\n",
      "processing 30.0%...\n",
      "processing 40.0%...\n",
      "processing 50.0%...\n",
      "processing 60.0%...\n",
      "processing 70.0%...\n",
      "processing 80.0%...\n",
      "processing 90.0%...\n",
      "processing 0.0%...\n",
      "processing 10.0%...\n",
      "processing 20.0%...\n",
      "processing 30.0%...\n",
      "processing 40.0%...\n",
      "processing 50.0%...\n",
      "processing 60.0%...\n",
      "processing 70.0%...\n",
      "processing 80.0%...\n",
      "processing 90.0%...\n"
     ],
     "name": "stdout"
    },
    {
     "output_type": "display_data",
     "data": {
      "image/png": "[encoded data removed]",
      "text/plain": [
       "<matplotlib.figure.Figure at 0x1f67fde2cc0>"
      ]
     },
     "metadata": {
      "tags": []
     }
    }
   ]
  },
  {
   "cell_type": "code",
   "metadata": {
    "id": "URPS7vnFYncP",
    "colab_type": "code",
    "colab": {}
   },
   "source": [
    ""
   ],
   "execution_count": 0,
   "outputs": []
  }
 ]
}
