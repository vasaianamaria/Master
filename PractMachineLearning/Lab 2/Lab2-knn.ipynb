{
 "cells": [
  {
   "cell_type": "markdown",
   "metadata": {
    "colab_type": "text",
    "id": "4KB6d3U4XhPI"
   },
   "source": [
    "# Practical Machine Learning\n",
    "# Lab 2\n"
   ]
  },
  {
   "cell_type": "markdown",
   "metadata": {
    "colab_type": "text",
    "id": "WG4LSTnnXhPJ"
   },
   "source": [
    "## k-Nearest Neighbor\n",
    "\n",
    "In this lab, we are going to classify handwritten digits from the MNIST database using k-NN and Naive Bayes. This dataset consists of 60000 training images and 10000 testing images. Each image is labeled with one of 10 classes (0-9 digit). The images are gray-scale and have 28 pixels high and wide. We are going to use a subset divided as follows:\n",
    "    \n",
    "    ‘train_images.npy’ is a matrix of 1000 x 784, containing 1000 training images, each row is an image (28 x 28 = 784).\n",
    "    ‘test_images.npy’ is a matrix of 500 x 784 containing 500 testing images.\n",
    "    ‘train_labels.npy’ and ‘test_labels.npy’ contains the ground-truth labels.\n",
    "\n",
    "![mnist_examples.png](attachment:mnist_examples.png)"
   ]
  },
  {
   "cell_type": "markdown",
   "metadata": {
    "colab_type": "text",
    "collapsed": true,
    "id": "zMsMvpZnXhPK"
   },
   "source": [
    "Download the images and the ground-truth labels from [here](url). \n"
   ]
  },
  {
   "cell_type": "code",
   "execution_count": 1,
   "metadata": {
    "colab": {},
    "colab_type": "code",
    "id": "bL4SVxagXhPL"
   },
   "outputs": [],
   "source": [
    "# import matplotlib and numpy libraries\n",
    "# you should run it only once\n",
    "import matplotlib.pyplot as plt\n",
    "import numpy as np "
   ]
  },
  {
   "cell_type": "code",
   "execution_count": 3,
   "metadata": {
    "colab": {
     "base_uri": "https://localhost:8080/",
     "height": 351
    },
    "colab_type": "code",
    "executionInfo": {
     "elapsed": 456,
     "status": "error",
     "timestamp": 1571258374102,
     "user": {
      "displayName": "Mihail Burduja",
      "photoUrl": "https://lh3.googleusercontent.com/a-/AAuE7mBsbb8Z2nES1p7u5hO8eYtUVNns_F_GTDUX-H11k-4=s64",
      "userId": "06467582067569643852"
     },
     "user_tz": -180
    },
    "id": "m4_kNIIZXhPN",
    "outputId": "bdf8a2c0-88fb-4d08-8969-3f0a4c9987f6"
   },
   "outputs": [
    {
     "data": {
      "image/png": "[encoded data removed]",
      "text/plain": [
       "<Figure size 432x288 with 1 Axes>"
      ]
     },
     "metadata": {
      "needs_background": "light"
     },
     "output_type": "display_data"
    },
    {
     "name": "stdout",
     "output_type": "stream",
     "text": [
      "(1000, 784)\n"
     ]
    }
   ],
   "source": [
    "train_images = np.load('data/train_images.npy') # load training images\n",
    "train_labels = np.load('data/train_labels.npy') # load training labels\n",
    "image = train_images[0, :] # the first image\n",
    "image = np.reshape(image, (28, 28)) \n",
    "plt.imshow(np.uint8(image))\n",
    "plt.show()\n",
    "print(train_images.shape)"
   ]
  },
  {
   "cell_type": "markdown",
   "metadata": {
    "colab_type": "text",
    "id": "uDQfxC7FXhPP"
   },
   "source": [
    "## k-Nearest Neighbor\n",
    "\n",
    "The **nearest neighbor** method takes a **test** example, compare it to every single **training** example, and predict the label of the **closest** training example.\n",
    "\n",
    "In order to find the closest example(s), we have to define (or choose) a **metric**.\n",
    "\n",
    "Instead of using the closest example in the training set, we can find the top **k** closest examples and predict their majority label (*classification*) or the mean of their labels (*regression*). This strategy is called **k-NN**.\n",
    "\n"
   ]
  },
  {
   "cell_type": "markdown",
   "metadata": {
    "colab_type": "text",
    "id": "vkSnVUJyXhPQ"
   },
   "source": [
    "![knn.jpeg](attachment:knn.jpeg)\n",
    "\n",
    "An example of the difference between Nearest Neighbor and a 5-Nearest Neighbor classifier, using 2-dimensional points and 3 classes (red, blue, green). The colored regions show the decision boundaries induced by the classifier with an L2 distance. The white regions show points that are ambiguously classified (i.e. class votes are tied for at least two classes). Notice that in the case of a NN classifier, outlier datapoints (e.g. green point in the middle of a cloud of blue points) create small islands of likely incorrect predictions, while the 5-NN classifier smooths over these irregularities, likely leading to better generalization on the test data (not shown). Also note that the gray regions in the 5-NN image are caused by ties in the votes among the nearest neighbors (e.g. 2 neighbors are red, next two neighbors are blue, last neighbor is green)."
   ]
  },
  {
   "cell_type": "markdown",
   "metadata": {
    "colab_type": "text",
    "id": "_JVqo1ZtXhPR"
   },
   "source": [
    "The most common distances are:\n",
    "    $$L_1(X, Y) = \\sum_i{\\mid X_i - Y_i \\mid}$$\n",
    "    $$L_2(X, Y) = \\sqrt{\\sum_i{(X_i - Y_i) ^ 2}}$$"
   ]
  },
  {
   "cell_type": "markdown",
   "metadata": {
    "colab_type": "text",
    "id": "fMU4FdUuXhPR"
   },
   "source": [
    "# Execises"
   ]
  },
  {
   "cell_type": "markdown",
   "metadata": {
    "colab_type": "text",
    "id": "wdBi6Z60XhPS"
   },
   "source": [
    "#### 1. Create the 'Knn_classifier' class in order to classify the MNIST testset."
   ]
  },
  {
   "cell_type": "code",
   "execution_count": 2,
   "metadata": {
    "colab": {},
    "colab_type": "code",
    "id": "eHiBQbFZXhPT",
    "ExecuteTime": {
     "start_time": "2023-10-25T17:08:58.719878Z",
     "end_time": "2023-10-25T17:08:58.904485Z"
    }
   },
   "outputs": [],
   "source": [
    "class Knn_classifier:\n",
    "    \n",
    "    def __init__(self, train_images, train_labels):\n",
    "        self.train_images = train_images\n",
    "        self.train_labels = train_labels\n",
    "    \n",
    "    # a. Write the classify_image(self, test_image, num_neighbors=3, metric='l2') function in order to classify 'test_image'\n",
    "    # example using the k-NN method with 'num_neighbors' neighbors and 'metric' distance.\n",
    "    def classify_image(self, test_image, num_neighbors=3, metric='l2'):\n",
    "        # write your code here\n",
    "        compute the distance between the test image and each train image\n",
    "        get the closest num_neighbors neighbors\n",
    "        get their labels\n",
    "        return the label with the highest count from the neighbors\n",
    "    \n",
    "    # b. Write the classify_images(self, test_images, num_neighbors=3, metric='l2') function in order to predict the labels of \n",
    "    # the test images.\n",
    "    def classify_images(self):\n",
    "        # write your code here\n",
    "        pass\n",
    "    \n",
    "    # c. Define a function to compute the accurracy score given the predicted labels and the ground-truth labels.\n",
    "    def accuracy_score(self):\n",
    "        # write your code here\n",
    "        pass\n",
    "    \n",
    "    "
   ]
  },
  {
   "cell_type": "markdown",
   "metadata": {
    "colab_type": "text",
    "id": "n4VO2ToFXhPV"
   },
   "source": [
    "#### 2. Compute the accuracy score of the 3-NN method on the test set using L_2 distance."
   ]
  },
  {
   "cell_type": "code",
   "execution_count": 4,
   "metadata": {
    "colab": {},
    "colab_type": "code",
    "id": "tRBYUTMnXhPV",
    "ExecuteTime": {
     "start_time": "2023-10-25T17:09:11.069058Z",
     "end_time": "2023-10-25T17:09:12.529252Z"
    }
   },
   "outputs": [
    {
     "name": "stdout",
     "output_type": "stream",
     "text": [
      "3-NN accuracy on the test set using L2 distance: 90.60%\n"
     ]
    }
   ],
   "source": [
    "train_images = np.load('data/train_images.npy') # load training images\n",
    "train_labels = np.load('data/train_labels.npy') # load training labels\n",
    "test_images = np.load('data/test_images.npy') # load testing images\n",
    "test_labels = np.load('data/test_labels.npy') # load testing labels\n",
    "\n",
    "# write your code here"
   ]
  },
  {
   "cell_type": "markdown",
   "metadata": {
    "colab_type": "text",
    "id": "RLoU_VrgXhPY"
   },
   "source": [
    "#### 3. Compute the confusion matrix of the previous classifier.\n",
    "\n",
    "Confusion matrix: $$C = c_{i, j}$$ number of examples in class __i that were classified as j__.\n"
   ]
  },
  {
   "cell_type": "code",
   "execution_count": 5,
   "metadata": {
    "colab": {},
    "colab_type": "code",
    "id": "hr2Uek3lXhPY",
    "ExecuteTime": {
     "start_time": "2023-10-25T17:10:08.204151Z",
     "end_time": "2023-10-25T17:10:08.211882Z"
    }
   },
   "outputs": [
    {
     "name": "stdout",
     "output_type": "stream",
     "text": [
      "[[51  0  0  0  0  1  1  0  0  0]\n",
      " [ 0 52  0  0  0  0  0  0  0  0]\n",
      " [ 1  4 49  1  0  0  1  2  0  0]\n",
      " [ 0  0  0 50  0  1  0  0  0  2]\n",
      " [ 0  0  0  0 43  0  0  1  0  2]\n",
      " [ 1  1  0  7  0 40  1  0  0  2]\n",
      " [ 0  0  0  0  0  1 47  0  0  0]\n",
      " [ 0  2  0  0  1  0  0 47  0  0]\n",
      " [ 1  0  1  1  1  2  1  1 37  1]\n",
      " [ 0  0  1  1  1  1  0  1  0 37]]\n"
     ]
    }
   ],
   "source": [
    "# write your code here"
   ]
  },
  {
   "cell_type": "markdown",
   "metadata": {
    "colab_type": "text",
    "id": "g5Be4imeXhPb"
   },
   "source": [
    "#### 4. Plot the accuracy score of the k-NN method with  $k \\in \\{1, 3, 5, 7, 9\\}$ and distance $L_2.$\n"
   ]
  },
  {
   "cell_type": "code",
   "execution_count": 7,
   "metadata": {
    "colab": {},
    "colab_type": "code",
    "id": "Jkh53rY_XhPb",
    "ExecuteTime": {
     "start_time": "2023-10-25T17:13:38.989987Z",
     "end_time": "2023-10-25T17:13:47.086298Z"
    }
   },
   "outputs": [
    {
     "data": {
      "text/plain": "<Figure size 640x480 with 1 Axes>",
      "image/png": "[encoded data removed]"
     },
     "metadata": {},
     "output_type": "display_data"
    }
   ],
   "source": [
    "# write your code here"
   ]
  },
  {
   "cell_type": "code",
   "execution_count": 0,
   "metadata": {
    "colab": {},
    "colab_type": "code",
    "id": "wsLAni9iXhPd"
   },
   "outputs": [],
   "source": []
  }
 ],
 "metadata": {
  "colab": {
   "name": "Lab2-knn.ipynb",
   "provenance": []
  },
  "kernelspec": {
   "display_name": "Python 3",
   "language": "python",
   "name": "python3"
  },
  "language_info": {
   "codemirror_mode": {
    "name": "ipython",
    "version": 3
   },
   "file_extension": ".py",
   "mimetype": "text/x-python",
   "name": "python",
   "nbconvert_exporter": "python",
   "pygments_lexer": "ipython3",
   "version": "3.8.3"
  }
 },
 "nbformat": 4,
 "nbformat_minor": 1
}
