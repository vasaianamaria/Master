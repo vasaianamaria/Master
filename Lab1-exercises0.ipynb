{
 "cells": [
  {
   "cell_type": "markdown",
   "metadata": {},
   "source": [
    "# Practical Machine Learning                                                                             \n",
    "# Lab 1"
   ]
  },
  {
   "cell_type": "markdown",
   "metadata": {},
   "source": [
    "## Exercises"
   ]
  },
  {
   "cell_type": "markdown",
   "metadata": {},
   "source": [
    "### 1.[Here](https://github.com//practical-ML-fmi/ML/raw/master/Data/lab1/images.zip), we have 8 images, read the images, flatten them, then store them in a numpy array. Before storing the images divide them by 255.\n",
    "The numpy array should have the dimension equals to (8, 12288), in order to check the dimension use the $shape$ attribute."
   ]
  },
  {
   "cell_type": "code",
   "execution_count": 3,
   "metadata": {
    "collapsed": true,
    "ExecuteTime": {
     "start_time": "2023-10-25T14:56:52.382342Z",
     "end_time": "2023-10-25T14:56:52.392958Z"
    }
   },
   "outputs": [
    {
     "name": "stdout",
     "output_type": "stream",
     "text": [
      "(8, 12288)\n"
     ]
    }
   ],
   "source": [
    "import os  # dealing with operating system-dependent functionalities like reading files\n",
    "import matplotlib.image as mpimg # used for reading image files\n",
    "import numpy as np  # library for numerical operations on arrays\n",
    "\n",
    "folder_name = 'images'\n",
    "files = os.listdir(folder_name) # list containing the names of all images\n",
    "images = [] # empty list\n",
    "\n",
    "for file in files: # for each image in the directory\n",
    "    # img = imread(os.path.join(folder_name, file), mode='RGB')\n",
    "    # im = Image.open(os.path.join(folder_name, file))\n",
    "    # img = np.array(im)\n",
    "    img = mpimg.imread(os.path.join(folder_name, file)) * 255 # the image is read into a numpy array\n",
    "\n",
    "    images.append(img.flatten() / 255) # ;np.reshape(img, [-1])  #.flatten() method is used to convert the 2D or 3D image array into a 1D array\n",
    "\n",
    "images = np.array(images) #the list images is converted into a numpy array for efficient numerical operations\n",
    "\n",
    "print(images.shape)"
   ]
  },
  {
   "cell_type": "markdown",
   "metadata": {},
   "source": [
    "### 2. Compute the mean of the images. "
   ]
  },
  {
   "cell_type": "code",
   "execution_count": 5,
   "metadata": {
    "collapsed": true,
    "ExecuteTime": {
     "start_time": "2023-10-25T15:11:08.941521Z",
     "end_time": "2023-10-25T15:11:08.944986Z"
    }
   },
   "outputs": [
    {
     "name": "stdout",
     "output_type": "stream",
     "text": [
      "[0.27254903 0.34509805 0.22745098 ... 0.3769608  0.40735295 0.33676472]\n"
     ]
    }
   ],
   "source": [
    "mean_image = np.mean(images, axis=0) #will contain the average of all the 8 images at each pixel position, the mean image of all 8 images\n",
    "print(mean_image)"
   ]
  },
  {
   "cell_type": "markdown",
   "metadata": {},
   "source": [
    "### 3. Normalize the images by subtracting the mean from each image."
   ]
  },
  {
   "cell_type": "code",
   "execution_count": 6,
   "metadata": {
    "collapsed": true,
    "ExecuteTime": {
     "start_time": "2023-10-25T15:15:33.762069Z",
     "end_time": "2023-10-25T15:15:33.766870Z"
    }
   },
   "outputs": [
    {
     "name": "stdout",
     "output_type": "stream",
     "text": [
      "[[-0.20980394 -0.34509805 -0.22352941 ... -0.09460786 -0.19558825\n",
      "  -0.16813727]\n",
      " [ 0.00196078 -0.04705882 -0.05098039 ...  0.21519607  0.21617648\n",
      "   0.0357843 ]\n",
      " [-0.09607844 -0.09411764  0.11764707 ...  0.10539213  0.07499999\n",
      "   0.1612745 ]\n",
      " ...\n",
      " [ 0.04117647  0.12156862 -0.01568627 ... -0.05539218  0.13382354\n",
      "  -0.05833334]\n",
      " [ 0.6607843   0.5529412   0.07843138 ... -0.302451   -0.3289216\n",
      "  -0.27401963]\n",
      " [ 0.06470588  0.03921568 -0.05098039 ...  0.40343136  0.2514706\n",
      "   0.20833334]]\n"
     ]
    }
   ],
   "source": [
    "normalized_images = images - mean_image #broadcasting\n",
    "print(normalized_images)\n",
    "#By subtracting the mean, the resulting \"normalized\" images will have values centered around zero, which can be beneficial for many algorithms"
   ]
  },
  {
   "cell_type": "markdown",
   "metadata": {},
   "source": [
    "### 4. [Here](https://github.com//practical-ML-fmi/ML/raw/master/Data/lab1/weights.zip), we have the weights and the bias for a perceptron that classifies the images in 4 classes. Use the weights (use np.load(‘path’) to load the weights) and the images (after normalization) to compute (y_hat) the predictions of the perceptron.  \n",
    "  $$ y_{hat} = softmax(X * W + b) $$\n",
    "  $$ X - input, W - weights, b - bias $$\n",
    "  $$Softmax(z_i)=\\frac{e^{z_i}}{\\sum_{j=1}^{j=K} e^{z_j} }$$"
   ]
  },
  {
   "cell_type": "code",
   "execution_count": 8,
   "metadata": {
    "collapsed": true,
    "ExecuteTime": {
     "start_time": "2023-10-25T15:19:55.389846Z",
     "end_time": "2023-10-25T15:19:55.394307Z"
    }
   },
   "outputs": [
    {
     "name": "stdout",
     "output_type": "stream",
     "text": [
      "[0 1 0 2 3 2 1 2]\n"
     ]
    }
   ],
   "source": [
    "weights = np.load('coefs.npy')\n",
    "bias = np.load('bias.npy')\n",
    "\n",
    "def softmax(Z):\n",
    "    return np.exp(Z) / np.sum(np.exp(Z))\n",
    "\n",
    "z_1 = np.dot(normalized_images, weights) + bias\n",
    "a_1 = softmax(z_1)\n",
    "y_pred = np.argmax(a_1, axis=1)\n",
    "print(y_pred)"
   ]
  },
  {
   "cell_type": "markdown",
   "metadata": {},
   "source": [
    "### 5. Let the ground-truth labels be y = [0, 0, 1, 1, 2,  2, 3,  3]. Compute the accuracy of the classifier (define a new function accuracy_score). \n",
    "$$Accuracy = \\frac{1}{n} \\sum_{i=1}^{j=n} y_{pred}^i == y_{true}^i$$"
   ]
  },
  {
   "cell_type": "code",
   "execution_count": 9,
   "metadata": {
    "collapsed": true,
    "ExecuteTime": {
     "start_time": "2023-10-25T15:27:40.799440Z",
     "end_time": "2023-10-25T15:27:40.803701Z"
    }
   },
   "outputs": [
    {
     "name": "stdout",
     "output_type": "stream",
     "text": [
      "[0 1 0 2 3 2 1 2]\n",
      "the accuracy is  0.25\n"
     ]
    }
   ],
   "source": [
    "def accuracy_score(y_true, y_pred):\n",
    "    return np.mean(y_true == y_pred) # the mean effectively calculates the fraction of correct predictions, here True denotes a correct prediction and False denotes an incorrect one\n",
    "\n",
    "y_true = [0, 0, 1, 1, 2, 2, 3, 3]\n",
    "print(y_pred)\n",
    "print('the accuracy is ', accuracy_score(y_true, y_pred))\n",
    "# For example, an accuracy of 1.0 means that all predictions were correct, while an accuracy of 0.5 means that half of the predictions were correct\n",
    "# The accuracy is a measure of this performance, with higher values indicating better performance.\n",
    "# This code compares those predictions to the actual labels to determine how well the model performed on this dataset"
   ]
  },
  {
   "cell_type": "markdown",
   "metadata": {},
   "source": [
    "### 6. The labels of the classes are: (Cat - 0,  Dog - 1, Frog - 2,  Horse - 3), print the label for each prediction (use a dictionary). \n"
   ]
  },
  {
   "cell_type": "code",
   "execution_count": 10,
   "metadata": {
    "collapsed": true,
    "ExecuteTime": {
     "start_time": "2023-10-25T15:32:33.086963Z",
     "end_time": "2023-10-25T15:32:33.093577Z"
    }
   },
   "outputs": [
    {
     "name": "stdout",
     "output_type": "stream",
     "text": [
      "class 0 has the label cat\n",
      "class 1 has the label dog\n",
      "class 2 has the label frog\n",
      "class 3 has the label horse\n"
     ]
    }
   ],
   "source": [
    "labels = {0: 'cat', 1: 'dog', 2: 'frog', 3: 'horse'}\n",
    "\n",
    "for i in range(4):\n",
    "    print('class %d has the label %s' % (i, labels[i]))"
   ]
  },
  {
   "cell_type": "markdown",
   "metadata": {},
   "source": [
    "### 7. Display the mean image (use imshow from Matplotlib).\n",
    "#### Don’t forget to multiply the image by 255, then convert the image to uint8."
   ]
  },
  {
   "cell_type": "code",
   "execution_count": 12,
   "metadata": {
    "collapsed": true
   },
   "outputs": [
    {
     "data": {
      "text/plain": "<Figure size 640x480 with 1 Axes>",
      "image/png": "[encoded data removed]"
     },
     "metadata": {},
     "output_type": "display_data"
    },
    {
     "name": "stdout",
     "output_type": "stream",
     "text": [
      "--Call--\n",
      "> \u001B[0;32m/Users/vasaia/anaconda3/lib/python3.11/site-packages/IPython/core/displayhook.py\u001B[0m(258)\u001B[0;36m__call__\u001B[0;34m()\u001B[0m\n",
      "\u001B[0;32m    256 \u001B[0;31m        \u001B[0msys\u001B[0m\u001B[0;34m.\u001B[0m\u001B[0mstdout\u001B[0m\u001B[0;34m.\u001B[0m\u001B[0mflush\u001B[0m\u001B[0;34m(\u001B[0m\u001B[0;34m)\u001B[0m\u001B[0;34m\u001B[0m\u001B[0;34m\u001B[0m\u001B[0m\n",
      "\u001B[0m\u001B[0;32m    257 \u001B[0;31m\u001B[0;34m\u001B[0m\u001B[0m\n",
      "\u001B[0m\u001B[0;32m--> 258 \u001B[0;31m    \u001B[0;32mdef\u001B[0m \u001B[0m__call__\u001B[0m\u001B[0;34m(\u001B[0m\u001B[0mself\u001B[0m\u001B[0;34m,\u001B[0m \u001B[0mresult\u001B[0m\u001B[0;34m=\u001B[0m\u001B[0;32mNone\u001B[0m\u001B[0;34m)\u001B[0m\u001B[0;34m:\u001B[0m\u001B[0;34m\u001B[0m\u001B[0;34m\u001B[0m\u001B[0m\n",
      "\u001B[0m\u001B[0;32m    259 \u001B[0;31m        \"\"\"Printing with history cache management.\n",
      "\u001B[0m\u001B[0;32m    260 \u001B[0;31m\u001B[0;34m\u001B[0m\u001B[0m\n",
      "\u001B[0m\n"
     ]
    }
   ],
   "source": [
    "import pdb #built-in Python debugger, which allows you to set breakpoints and inspect the state of your program at specific points\n",
    "import matplotlib.pyplot as plt # plotting library for Python\n",
    "\n",
    "img = mean_image.reshape((64, 64, 3)) #reshapes it into a 64x64 RGB image, becomes a 3D array\n",
    "plt.imshow(np.uint8(img * 255))\n",
    "plt.show()\n",
    "\n",
    "pdb.set_trace()"
   ]
  }
 ],
 "metadata": {
  "kernelspec": {
   "display_name": "Python 3",
   "language": "python",
   "name": "python3"
  },
  "language_info": {
   "codemirror_mode": {
    "name": "ipython",
    "version": 3
   },
   "file_extension": ".py",
   "mimetype": "text/x-python",
   "name": "python",
   "nbconvert_exporter": "python",
   "pygments_lexer": "ipython3",
   "version": "3.6.1"
  }
 },
 "nbformat": 4,
 "nbformat_minor": 2
}
